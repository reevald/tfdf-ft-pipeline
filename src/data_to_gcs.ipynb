{
 "cells": [
  {
   "cell_type": "markdown",
   "metadata": {},
   "source": [
    "# Send Data into Google Cloud Storage\n",
    "On the real production should be handled by ETL process."
   ]
  },
  {
   "cell_type": "markdown",
   "metadata": {},
   "source": [
    "## Set up variables"
   ]
  },
  {
   "cell_type": "code",
   "execution_count": 11,
   "metadata": {},
   "outputs": [],
   "source": [
    "import os\n",
    "import sys\n",
    "\n",
    "SCRIPT_DIR = os.getcwd()\n",
    "\n",
    "sys.path.append(os.path.normpath(os.path.join(SCRIPT_DIR, \"..\")))\n",
    "import src.tfx_pipelines.config as config  # noqa: E402"
   ]
  },
  {
   "cell_type": "code",
   "execution_count": 6,
   "metadata": {},
   "outputs": [
    {
     "name": "stdout",
     "output_type": "stream",
     "text": [
      "Updated property [core/project].\n"
     ]
    }
   ],
   "source": [
    "!gcloud config set project {config.GOOGLE_CLOUD_PROJECT}"
   ]
  },
  {
   "cell_type": "code",
   "execution_count": 12,
   "metadata": {},
   "outputs": [
    {
     "name": "stdout",
     "output_type": "stream",
     "text": [
      "PIPELINE_ROOT: gs://data-for-tfdf/pipeline-root/urge-classifier-train-pipeline\n",
      "DATA_ROOT: gs://data-for-tfdf/data/urge-classifier-train-pipeline\n",
      "SERVING_MODEL_DIR gs://data-for-tfdf/serving-model/urge-classifier-train-pipeline\n"
     ]
    }
   ],
   "source": [
    "print(f\"PIPELINE_ROOT: {config.GCS_PIPELINE_ROOT}\")\n",
    "print(f\"DATA_ROOT: {config.GCS_DATA_ROOT}\")\n",
    "print(f\"SERVING_MODEL_DIR {config.GCS_SERVING_MODEL_DIR}\")"
   ]
  },
  {
   "cell_type": "markdown",
   "metadata": {},
   "source": [
    "## Uploaded data into GCS"
   ]
  },
  {
   "cell_type": "code",
   "execution_count": 17,
   "metadata": {},
   "outputs": [
    {
     "name": "stdout",
     "output_type": "stream",
     "text": [
      "/home/hobiron/PlayML/tfdf-ft-pipeline/sample_local_data/2024-03-13\n"
     ]
    }
   ],
   "source": [
    "local_data = os.path.abspath(\"../sample_local_data/2024-03-13\")\n",
    "print(local_data)"
   ]
  },
  {
   "cell_type": "code",
   "execution_count": 18,
   "metadata": {},
   "outputs": [
    {
     "name": "stdout",
     "output_type": "stream",
     "text": [
      "Copying file:///home/hobiron/PlayML/tfdf-ft-pipeline/sample_local_data/2024-03-13/ver-1710285536/train/synth_train.csv [Content-Type=text/csv]...\n",
      "Copying file:///home/hobiron/PlayML/tfdf-ft-pipeline/sample_local_data/2024-03-13/ver-1710285536/val/synth_val.csv [Content-Type=text/csv]...\n",
      "\\ [2 files][ 59.8 KiB/ 59.8 KiB]                                                \n",
      "Operation completed over 2 objects/59.8 KiB.                                     \n"
     ]
    }
   ],
   "source": [
    "!gsutil cp -r {local_data}/ {config.GCS_DATA_ROOT}/"
   ]
  },
  {
   "cell_type": "markdown",
   "metadata": {},
   "source": [
    "## Take a quick look at the data uploaded"
   ]
  },
  {
   "cell_type": "code",
   "execution_count": 20,
   "metadata": {},
   "outputs": [
    {
     "name": "stdout",
     "output_type": "stream",
     "text": [
      "task_exe_completed,task_med_completed,task_read_completed,act_exe_num,act_med_num,act_read_num,act_exe_nununique,act_med_nununique,act_read_nununique,streak_current,streak_status\n",
      "0,1,1,2,18,4,2,7,3,27,1\n",
      "0,0,1,2,0,4,0,0,4,57,0\n",
      "0,0,0,2,1,1,2,0,1,60,0\n",
      "0,0,0,0,2,0,0,0,0,57,0\n",
      "1,0,1,7,1,15,3,0,3,69,1\n",
      "1,1,1,12,26,16,11,18,3,86,1\n",
      "1,0,0,0,1,2,0,0,0,21,1\n",
      "0,0,1,2,1,7,2,1,7,29,0\n",
      "0,1,0,1,15,0,1,12,0,21,0\n"
     ]
    }
   ],
   "source": [
    "!gsutil cat {config.GCS_DATA_ROOT}/2024-03-13/ver-1710285536/val/synth_val.csv | head"
   ]
  }
 ],
 "metadata": {
  "kernelspec": {
   "display_name": "MLEnv",
   "language": "python",
   "name": "python3"
  },
  "language_info": {
   "codemirror_mode": {
    "name": "ipython",
    "version": 3
   },
   "file_extension": ".py",
   "mimetype": "text/x-python",
   "name": "python",
   "nbconvert_exporter": "python",
   "pygments_lexer": "ipython3",
   "version": "3.8.0"
  }
 },
 "nbformat": 4,
 "nbformat_minor": 2
}
