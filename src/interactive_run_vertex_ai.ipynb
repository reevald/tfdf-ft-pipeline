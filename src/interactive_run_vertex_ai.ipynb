{
 "cells": [
  {
   "cell_type": "markdown",
   "metadata": {},
   "source": [
    "# Just Testing Run Vertex AI Pipeline Before Implement CI/CD"
   ]
  },
  {
   "cell_type": "code",
   "execution_count": 1,
   "metadata": {},
   "outputs": [],
   "source": [
    "from google.cloud import aiplatform as vertex_ai"
   ]
  },
  {
   "cell_type": "code",
   "execution_count": 2,
   "metadata": {},
   "outputs": [],
   "source": [
    "import os\n",
    "import sys\n",
    "\n",
    "SCRIPT_DIR = os.getcwd()\n",
    "\n",
    "sys.path.append(os.path.normpath(os.path.join(SCRIPT_DIR, \"..\")))\n",
    "import src.tfx_pipelines.config as config  # noqa: E402"
   ]
  },
  {
   "cell_type": "code",
   "execution_count": 16,
   "metadata": {},
   "outputs": [
    {
     "name": "stdout",
     "output_type": "stream",
     "text": [
      "/home/hobiron/PlayML/tfdf-ft-pipeline/src/urge-classifier-train-pipeline.json\n"
     ]
    }
   ],
   "source": [
    "# Note: to generate template, you need to run this first: python kubeflow_runner.py\n",
    "sample_template_path = os.path.abspath(f\"{config.PIPELINE_NAME}.json\")\n",
    "print(sample_template_path)"
   ]
  },
  {
   "cell_type": "code",
   "execution_count": 17,
   "metadata": {},
   "outputs": [
    {
     "name": "stdout",
     "output_type": "stream",
     "text": [
      "Updated property [core/project].\n"
     ]
    }
   ],
   "source": [
    "# We will upload the template into gcs\n",
    "!gcloud config set project {config.GOOGLE_CLOUD_PROJECT}"
   ]
  },
  {
   "cell_type": "code",
   "execution_count": 18,
   "metadata": {},
   "outputs": [
    {
     "name": "stdout",
     "output_type": "stream",
     "text": [
      "Copying file:///home/hobiron/PlayML/tfdf-ft-pipeline/src/urge-classifier-train-pipeline.json [Content-Type=application/json]...\n",
      "- [1 files][ 22.9 KiB/ 22.9 KiB]                                                \n",
      "Operation completed over 1 objects/22.9 KiB.                                     \n"
     ]
    }
   ],
   "source": [
    "!gsutil cp {sample_template_path} {config.GCS_PIPELINES_STORE}/"
   ]
  },
  {
   "cell_type": "code",
   "execution_count": 10,
   "metadata": {},
   "outputs": [],
   "source": [
    "gcs_compiled_pipeline_file_location = (\n",
    "    f\"{config.GCS_PIPELINES_STORE}/{config.PIPELINE_NAME}.json\"\n",
    ")"
   ]
  },
  {
   "cell_type": "code",
   "execution_count": 20,
   "metadata": {},
   "outputs": [
    {
     "name": "stdout",
     "output_type": "stream",
     "text": [
      "{\"displayName\": \"urge-classifier-train-pipeline\", \"labels\": {\"tfx_py_version\": \"3-8\", \"tfx_runner\": \"kubeflow_v2\", \"tfx_version\": \"1-14-0\"}, \"pipelineSpec\": {\"components\": {\"BaselineModelResolver-model-blessing-resolver\": {\"executorLabel\": \"BaselineModelResolver-model-blessing-resolver_executor\", \"outputDefinitions\": {\"artifacts\": {\"model_blessing\": {\"artifactType\": {\"instanceSchema\": \"title: tfx.ModelBlessing\\ntype: object\\n\"}}}}}, \"BaselineModelResolver-model-resolver\": {\"executorLabel\": \"BaselineModelResolver-model-resolver_executor\", \"inputDefinitions\": {\"artifacts\": {\"input\": {\"artifactType\": {\"instanceSchema\": \"title: tfx.ModelBlessing\\ntype: object\\n\"}}}}, \"outputDefinitions\": {\"artifacts\": {\"model\": {\"artifactType\": {\"instanceSchema\": \"title: tfx.Model\\ntype: object\\n\"}}}}}, \"DataTransformer\": {\"executorLabel\": \"DataTransformer_executor\", \"inputDefinitions\": {\"artifacts\": {\"examples\": {\"artifactType\": {\"instanceSchema\": \"title: tfx.Examples\\ntype: object\\nproperties:\\n  span:\\n    type: integer\\n    description: Span for an artifact.\\n  version:\\n    type: integer\\n    description: Version for an artifact.\\n  split_names:\\n    type: string\\n    description: JSON-encoded list of splits for an artifact. Empty string means artifact has no split.\\n\"}}, \"schema\": {\"artifactType\": {\"instanceSchema\": \"title: tfx.Schema\\ntype: object\\n\"}}}, \"parameters\": {\"custom_config\": {\"type\": \"STRING\"}, \"disable_statistics\": {\"type\": \"INT\"}, \"force_tf_compat_v1\": {\"type\": \"INT\"}, \"module_path\": {\"type\": \"STRING\"}}}, \"outputDefinitions\": {\"artifacts\": {\"post_transform_anomalies\": {\"artifactType\": {\"instanceSchema\": \"title: tfx.ExampleAnomalies\\ntype: object\\nproperties:\\n  span:\\n    type: integer\\n    description: Span for an artifact.\\n  split_names:\\n    type: string\\n    description: JSON-encoded list of splits for an artifact. Empty string means artifact has no split.\\n\"}}, \"post_transform_schema\": {\"artifactType\": {\"instanceSchema\": \"title: tfx.Schema\\ntype: object\\n\"}}, \"post_transform_stats\": {\"artifactType\": {\"instanceSchema\": \"title: tfx.ExampleStatistics\\ntype: object\\nproperties:\\n  span:\\n    type: integer\\n    description: Span for an artifact.\\n  split_names:\\n    type: string\\n    description: JSON-encoded list of splits for an artifact. Empty string means artifact has no split.\\n\"}}, \"pre_transform_schema\": {\"artifactType\": {\"instanceSchema\": \"title: tfx.Schema\\ntype: object\\n\"}}, \"pre_transform_stats\": {\"artifactType\": {\"instanceSchema\": \"title: tfx.ExampleStatistics\\ntype: object\\nproperties:\\n  span:\\n    type: integer\\n    description: Span for an artifact.\\n  split_names:\\n    type: string\\n    description: JSON-encoded list of splits for an artifact. Empty string means artifact has no split.\\n\"}}, \"transform_graph\": {\"artifactType\": {\"instanceSchema\": \"title: tfx.TransformGraph\\ntype: object\\n\"}}, \"transformed_examples\": {\"artifactType\": {\"instanceSchema\": \"title: tfx.Examples\\ntype: object\\nproperties:\\n  span:\\n    type: integer\\n    description: Span for an artifact.\\n  version:\\n    type: integer\\n    description: Version for an artifact.\\n  split_names:\\n    type: string\\n    description: JSON-encoded list of splits for an artifact. Empty string means artifact has no split.\\n\"}}, \"updated_analyzer_cache\": {\"artifactType\": {\"instanceSchema\": \"title: tfx.TransformCache\\ntype: object\\n\"}}}}}, \"ExampleGen\": {\"executorLabel\": \"ExampleGen_executor\", \"inputDefinitions\": {\"parameters\": {\"input_base\": {\"type\": \"STRING\"}, \"input_config\": {\"type\": \"STRING\"}, \"output_config\": {\"type\": \"STRING\"}, \"output_data_format\": {\"type\": \"INT\"}, \"output_file_format\": {\"type\": \"INT\"}}}, \"outputDefinitions\": {\"artifacts\": {\"examples\": {\"artifactType\": {\"instanceSchema\": \"title: tfx.Examples\\ntype: object\\nproperties:\\n  span:\\n    type: integer\\n    description: Span for an artifact.\\n  version:\\n    type: integer\\n    description: Version for an artifact.\\n  split_names:\\n    type: string\\n    description: JSON-encoded list of splits for an artifact. Empty string means artifact has no split.\\n\"}}}}}, \"ExampleValidator\": {\"executorLabel\": \"ExampleValidator_executor\", \"inputDefinitions\": {\"artifacts\": {\"schema\": {\"artifactType\": {\"instanceSchema\": \"title: tfx.Schema\\ntype: object\\n\"}}, \"statistics\": {\"artifactType\": {\"instanceSchema\": \"title: tfx.ExampleStatistics\\ntype: object\\nproperties:\\n  span:\\n    type: integer\\n    description: Span for an artifact.\\n  split_names:\\n    type: string\\n    description: JSON-encoded list of splits for an artifact. Empty string means artifact has no split.\\n\"}}}, \"parameters\": {\"exclude_splits\": {\"type\": \"STRING\"}}}, \"outputDefinitions\": {\"artifacts\": {\"anomalies\": {\"artifactType\": {\"instanceSchema\": \"title: tfx.ExampleAnomalies\\ntype: object\\nproperties:\\n  span:\\n    type: integer\\n    description: Span for an artifact.\\n  split_names:\\n    type: string\\n    description: JSON-encoded list of splits for an artifact. Empty string means artifact has no split.\\n\"}}}}}, \"HyperparametersImporter\": {\"executorLabel\": \"HyperparametersImporter_executor\", \"inputDefinitions\": {\"parameters\": {\"artifact_uri\": {\"type\": \"STRING\"}, \"output_key\": {\"type\": \"STRING\"}, \"reimport\": {\"type\": \"INT\"}}}, \"outputDefinitions\": {\"artifacts\": {\"result\": {\"artifactType\": {\"instanceSchema\": \"title: tfx.HyperParameters\\ntype: object\\n\"}}}}}, \"ModelEvaluator\": {\"executorLabel\": \"ModelEvaluator_executor\", \"inputDefinitions\": {\"artifacts\": {\"baseline_model\": {\"artifactType\": {\"instanceSchema\": \"title: tfx.Model\\ntype: object\\n\"}}, \"examples\": {\"artifactType\": {\"instanceSchema\": \"title: tfx.Examples\\ntype: object\\nproperties:\\n  span:\\n    type: integer\\n    description: Span for an artifact.\\n  version:\\n    type: integer\\n    description: Version for an artifact.\\n  split_names:\\n    type: string\\n    description: JSON-encoded list of splits for an artifact. Empty string means artifact has no split.\\n\"}}, \"model\": {\"artifactType\": {\"instanceSchema\": \"title: tfx.Model\\ntype: object\\n\"}}}, \"parameters\": {\"eval_config\": {\"type\": \"STRING\"}, \"example_splits\": {\"type\": \"STRING\"}, \"fairness_indicator_thresholds\": {\"type\": \"STRING\"}}}, \"outputDefinitions\": {\"artifacts\": {\"blessing\": {\"artifactType\": {\"instanceSchema\": \"title: tfx.ModelBlessing\\ntype: object\\n\"}}, \"evaluation\": {\"artifactType\": {\"instanceSchema\": \"title: tfx.ModelEvaluation\\ntype: object\\n\"}}}}}, \"ModelVertexTrainer\": {\"executorLabel\": \"ModelVertexTrainer_executor\", \"inputDefinitions\": {\"artifacts\": {\"base_model\": {\"artifactType\": {\"instanceSchema\": \"title: tfx.Model\\ntype: object\\n\"}}, \"examples\": {\"artifactType\": {\"instanceSchema\": \"title: tfx.Examples\\ntype: object\\nproperties:\\n  span:\\n    type: integer\\n    description: Span for an artifact.\\n  version:\\n    type: integer\\n    description: Version for an artifact.\\n  split_names:\\n    type: string\\n    description: JSON-encoded list of splits for an artifact. Empty string means artifact has no split.\\n\"}}, \"hyperparameters\": {\"artifactType\": {\"instanceSchema\": \"title: tfx.HyperParameters\\ntype: object\\n\"}}, \"schema\": {\"artifactType\": {\"instanceSchema\": \"title: tfx.Schema\\ntype: object\\n\"}}, \"transform_graph\": {\"artifactType\": {\"instanceSchema\": \"title: tfx.TransformGraph\\ntype: object\\n\"}}}, \"parameters\": {\"custom_config\": {\"type\": \"STRING\"}, \"eval_args\": {\"type\": \"STRING\"}, \"module_path\": {\"type\": \"STRING\"}, \"train_args\": {\"type\": \"STRING\"}}}, \"outputDefinitions\": {\"artifacts\": {\"model\": {\"artifactType\": {\"instanceSchema\": \"title: tfx.Model\\ntype: object\\n\"}}, \"model_run\": {\"artifactType\": {\"instanceSchema\": \"title: tfx.ModelRun\\ntype: object\\n\"}}}}}, \"Pusher\": {\"executorLabel\": \"Pusher_executor\", \"inputDefinitions\": {\"artifacts\": {\"model\": {\"artifactType\": {\"instanceSchema\": \"title: tfx.Model\\ntype: object\\n\"}}, \"model_blessing\": {\"artifactType\": {\"instanceSchema\": \"title: tfx.ModelBlessing\\ntype: object\\n\"}}}, \"parameters\": {\"custom_config\": {\"type\": \"STRING\"}, \"push_destination\": {\"type\": \"STRING\"}}}, \"outputDefinitions\": {\"artifacts\": {\"pushed_model\": {\"artifactType\": {\"instanceSchema\": \"title: tfx.PushedModel\\ntype: object\\n\"}}}}}, \"SchemaImporter\": {\"executorLabel\": \"SchemaImporter_executor\", \"inputDefinitions\": {\"parameters\": {\"schema_file\": {\"type\": \"STRING\"}}}, \"outputDefinitions\": {\"artifacts\": {\"schema\": {\"artifactType\": {\"instanceSchema\": \"title: tfx.Schema\\ntype: object\\n\"}}}}}, \"StatisticsGen\": {\"executorLabel\": \"StatisticsGen_executor\", \"inputDefinitions\": {\"artifacts\": {\"examples\": {\"artifactType\": {\"instanceSchema\": \"title: tfx.Examples\\ntype: object\\nproperties:\\n  span:\\n    type: integer\\n    description: Span for an artifact.\\n  version:\\n    type: integer\\n    description: Version for an artifact.\\n  split_names:\\n    type: string\\n    description: JSON-encoded list of splits for an artifact. Empty string means artifact has no split.\\n\"}}}, \"parameters\": {\"exclude_splits\": {\"type\": \"STRING\"}}}, \"outputDefinitions\": {\"artifacts\": {\"statistics\": {\"artifactType\": {\"instanceSchema\": \"title: tfx.ExampleStatistics\\ntype: object\\nproperties:\\n  span:\\n    type: integer\\n    description: Span for an artifact.\\n  split_names:\\n    type: string\\n    description: JSON-encoded list of splits for an artifact. Empty string means artifact has no split.\\n\"}}}}}, \"WarmstartModelResolver\": {\"executorLabel\": \"WarmstartModelResolver_executor\", \"inputDefinitions\": {\"parameters\": {\"resolver_class\": {\"type\": \"STRING\"}, \"source_uri\": {\"type\": \"STRING\"}}}, \"outputDefinitions\": {\"artifacts\": {\"latest_model\": {\"artifactType\": {\"instanceSchema\": \"title: tfx.Model\\ntype: object\\n\"}}}}}}, \"deploymentSpec\": {\"executors\": {\"BaselineModelResolver-model-blessing-resolver_executor\": {\"resolver\": {\"outputArtifactQueries\": {\"model_blessing\": {\"filter\": \"schema_title=\\\"tfx.ModelBlessing\\\" AND state=LIVE AND metadata.blessed.number_value=1\"}}}}, \"BaselineModelResolver-model-resolver_executor\": {\"resolver\": {\"outputArtifactQueries\": {\"model\": {\"filter\": \"schema_title=\\\"tfx.Model\\\" AND state=LIVE AND name=\\\"{{$.inputs.artifacts['input'].metadata['current_model_id']}}\\\"\"}}}}, \"DataTransformer_executor\": {\"container\": {\"args\": [\"--executor_class_path\", \"tfx.components.transform.executor.Executor\", \"--json_serialized_invocation_args\", \"{{$}}\"], \"command\": [\"python\", \"-m\", \"tfx.orchestration.kubeflow.v2.container.kubeflow_v2_run_executor\"], \"image\": \"us-central1-docker.pkg.dev/tfdf-mlops/docker-repo/vertex:latest\"}}, \"ExampleGen_executor\": {\"container\": {\"args\": [\"--executor_class_path\", \"tfx.components.example_gen.csv_example_gen.executor.Executor\", \"--json_serialized_invocation_args\", \"{{$}}\"], \"command\": [\"python\", \"-m\", \"tfx.orchestration.kubeflow.v2.container.kubeflow_v2_run_executor\"], \"image\": \"us-central1-docker.pkg.dev/tfdf-mlops/docker-repo/vertex:latest\", \"lifecycle\": {\"preCacheCheck\": {\"args\": [\"--json_serialized_invocation_args\", \"{{$}}\"], \"command\": [\"python\", \"-m\", \"tfx.orchestration.kubeflow.v2.file_based_example_gen.driver\"]}}}}, \"ExampleValidator_executor\": {\"container\": {\"args\": [\"--executor_class_path\", \"tfx.components.example_validator.executor.Executor\", \"--json_serialized_invocation_args\", \"{{$}}\"], \"command\": [\"python\", \"-m\", \"tfx.orchestration.kubeflow.v2.container.kubeflow_v2_run_executor\"], \"image\": \"us-central1-docker.pkg.dev/tfdf-mlops/docker-repo/vertex:latest\"}}, \"HyperparametersImporter_executor\": {\"importer\": {\"artifactUri\": {\"constantValue\": {\"stringValue\": \"src/best_hyperparameters\"}}, \"typeSchema\": {\"instanceSchema\": \"title: tfx.HyperParameters\\ntype: object\\n\"}}}, \"ModelEvaluator_executor\": {\"container\": {\"args\": [\"--executor_class_path\", \"tfx.components.evaluator.executor.Executor\", \"--json_serialized_invocation_args\", \"{{$}}\"], \"command\": [\"python\", \"-m\", \"tfx.orchestration.kubeflow.v2.container.kubeflow_v2_run_executor\"], \"image\": \"us-central1-docker.pkg.dev/tfdf-mlops/docker-repo/vertex:latest\"}}, \"ModelVertexTrainer_executor\": {\"container\": {\"args\": [\"--executor_class_path\", \"tfx.extensions.google_cloud_ai_platform.trainer.executor.GenericExecutor\", \"--json_serialized_invocation_args\", \"{{$}}\"], \"command\": [\"python\", \"-m\", \"tfx.orchestration.kubeflow.v2.container.kubeflow_v2_run_executor\"], \"image\": \"us-central1-docker.pkg.dev/tfdf-mlops/docker-repo/vertex:latest\"}}, \"Pusher_executor\": {\"container\": {\"args\": [\"--executor_class_path\", \"tfx.components.pusher.executor.Executor\", \"--json_serialized_invocation_args\", \"{{$}}\"], \"command\": [\"python\", \"-m\", \"tfx.orchestration.kubeflow.v2.container.kubeflow_v2_run_executor\"], \"image\": \"us-central1-docker.pkg.dev/tfdf-mlops/docker-repo/vertex:latest\"}}, \"SchemaImporter_executor\": {\"container\": {\"args\": [\"--executor_class_path\", \"tfx.components.schema_gen.import_schema_gen.executor.Executor\", \"--json_serialized_invocation_args\", \"{{$}}\"], \"command\": [\"python\", \"-m\", \"tfx.orchestration.kubeflow.v2.container.kubeflow_v2_run_executor\"], \"image\": \"us-central1-docker.pkg.dev/tfdf-mlops/docker-repo/vertex:latest\"}}, \"StatisticsGen_executor\": {\"container\": {\"args\": [\"--executor_class_path\", \"tfx.components.statistics_gen.executor.Executor\", \"--json_serialized_invocation_args\", \"{{$}}\"], \"command\": [\"python\", \"-m\", \"tfx.orchestration.kubeflow.v2.container.kubeflow_v2_run_executor\"], \"image\": \"us-central1-docker.pkg.dev/tfdf-mlops/docker-repo/vertex:latest\"}}, \"WarmstartModelResolver_executor\": {\"resolver\": {\"outputArtifactQueries\": {\"latest_model\": {\"filter\": \"schema_title=\\\"tfx.Model\\\" AND state=LIVE\"}}}}}}, \"pipelineInfo\": {\"name\": \"urge-classifier-train-pipeline\"}, \"root\": {\"dag\": {\"tasks\": {\"BaselineModelResolver-model-blessing-resolver\": {\"componentRef\": {\"name\": \"BaselineModelResolver-model-blessing-resolver\"}, \"taskInfo\": {\"name\": \"BaselineModelResolver-model-blessing-resolver\"}}, \"BaselineModelResolver-model-resolver\": {\"componentRef\": {\"name\": \"BaselineModelResolver-model-resolver\"}, \"inputs\": {\"artifacts\": {\"input\": {\"taskOutputArtifact\": {\"outputArtifactKey\": \"model_blessing\", \"producerTask\": \"BaselineModelResolver-model-blessing-resolver\"}}}}, \"taskInfo\": {\"name\": \"BaselineModelResolver-model-resolver\"}}, \"DataTransformer\": {\"componentRef\": {\"name\": \"DataTransformer\"}, \"dependentTasks\": [\"ExampleGen\", \"SchemaImporter\"], \"inputs\": {\"artifacts\": {\"examples\": {\"taskOutputArtifact\": {\"outputArtifactKey\": \"examples\", \"producerTask\": \"ExampleGen\"}}, \"schema\": {\"taskOutputArtifact\": {\"outputArtifactKey\": \"schema\", \"producerTask\": \"SchemaImporter\"}}}, \"parameters\": {\"custom_config\": {\"runtimeValue\": {\"constantValue\": {\"stringValue\": \"{\\\"path_schema\\\": \\\"src/raw_schema/schema.pbtxt\\\"}\"}}}, \"disable_statistics\": {\"runtimeValue\": {\"constantValue\": {\"intValue\": \"0\"}}}, \"force_tf_compat_v1\": {\"runtimeValue\": {\"constantValue\": {\"intValue\": \"0\"}}}, \"module_path\": {\"runtimeValue\": {\"constantValue\": {\"stringValue\": \"transform_module@gs://data-for-tfdf/pipeline-root/urge-classifier-train-pipeline/_wheels/tfx_user_code_DataTransformer-0.0+d8b49c39f698c364ca4acaedce2f8f3bb3448b95755382e169431021fd4c93b4-py3-none-any.whl\"}}}}}, \"taskInfo\": {\"name\": \"DataTransformer\"}}, \"ExampleGen\": {\"componentRef\": {\"name\": \"ExampleGen\"}, \"inputs\": {\"parameters\": {\"input_base\": {\"runtimeValue\": {\"constantValue\": {\"stringValue\": \"gs://data-for-tfdf/data/urge-classifier-train-pipeline\"}}}, \"input_config\": {\"runtimeValue\": {\"constantValue\": {\"stringValue\": \"{\\n  \\\"splits\\\": [\\n    {\\n      \\\"name\\\": \\\"train\\\",\\n      \\\"pattern\\\": \\\"{YYYY}-{MM}-{DD}/ver-{VERSION}/train/synth_train.csv\\\"\\n    },\\n    {\\n      \\\"name\\\": \\\"val\\\",\\n      \\\"pattern\\\": \\\"{YYYY}-{MM}-{DD}/ver-{VERSION}/val/synth_val.csv\\\"\\n    }\\n  ]\\n}\"}}}, \"output_config\": {\"runtimeValue\": {\"constantValue\": {\"stringValue\": \"{}\"}}}, \"output_data_format\": {\"runtimeValue\": {\"constantValue\": {\"intValue\": \"6\"}}}, \"output_file_format\": {\"runtimeValue\": {\"constantValue\": {\"intValue\": \"5\"}}}}}, \"taskInfo\": {\"name\": \"ExampleGen\"}}, \"ExampleValidator\": {\"componentRef\": {\"name\": \"ExampleValidator\"}, \"dependentTasks\": [\"SchemaImporter\", \"StatisticsGen\"], \"inputs\": {\"artifacts\": {\"schema\": {\"taskOutputArtifact\": {\"outputArtifactKey\": \"schema\", \"producerTask\": \"SchemaImporter\"}}, \"statistics\": {\"taskOutputArtifact\": {\"outputArtifactKey\": \"statistics\", \"producerTask\": \"StatisticsGen\"}}}, \"parameters\": {\"exclude_splits\": {\"runtimeValue\": {\"constantValue\": {\"stringValue\": \"[]\"}}}}}, \"taskInfo\": {\"name\": \"ExampleValidator\"}}, \"HyperparametersImporter\": {\"componentRef\": {\"name\": \"HyperparametersImporter\"}, \"inputs\": {\"parameters\": {\"artifact_uri\": {\"runtimeValue\": {\"constantValue\": {\"stringValue\": \"src/best_hyperparameters\"}}}, \"output_key\": {\"runtimeValue\": {\"constantValue\": {\"stringValue\": \"result\"}}}, \"reimport\": {\"runtimeValue\": {\"constantValue\": {\"intValue\": \"0\"}}}}}, \"taskInfo\": {\"name\": \"HyperparametersImporter\"}}, \"ModelEvaluator\": {\"componentRef\": {\"name\": \"ModelEvaluator\"}, \"dependentTasks\": [\"BaselineModelResolver-model-resolver\", \"ExampleGen\", \"ModelVertexTrainer\"], \"inputs\": {\"artifacts\": {\"baseline_model\": {\"taskOutputArtifact\": {\"outputArtifactKey\": \"model\", \"producerTask\": \"BaselineModelResolver-model-resolver\"}}, \"examples\": {\"taskOutputArtifact\": {\"outputArtifactKey\": \"examples\", \"producerTask\": \"ExampleGen\"}}, \"model\": {\"taskOutputArtifact\": {\"outputArtifactKey\": \"model\", \"producerTask\": \"ModelVertexTrainer\"}}}, \"parameters\": {\"eval_config\": {\"runtimeValue\": {\"constantValue\": {\"stringValue\": \"{\\n  \\\"metrics_specs\\\": [\\n    {\\n      \\\"metrics\\\": [\\n        {\\n          \\\"class_name\\\": \\\"F1ScoreBinaryBridge\\\",\\n          \\\"config\\\": \\\"\\\\n                            \\\\\\\"average\\\\\\\": \\\\\\\"micro\\\\\\\",\\\\n                            \\\\\\\"name\\\\\\\": \\\\\\\"f1_score_micro\\\\\\\",\\\\n                            \\\\\\\"threshold\\\\\\\": 0.48\\\\n                        \\\",\\n          \\\"module\\\": \\\"src.modules.utils\\\",\\n          \\\"threshold\\\": {\\n            \\\"change_threshold\\\": {\\n              \\\"absolute\\\": 0.01,\\n              \\\"direction\\\": \\\"HIGHER_IS_BETTER\\\"\\n            },\\n            \\\"value_threshold\\\": {\\n              \\\"lower_bound\\\": 0.7375\\n            }\\n          }\\n        },\\n        {\\n          \\\"class_name\\\": \\\"AUC\\\",\\n          \\\"config\\\": \\\"\\\\\\\"curve\\\\\\\": \\\\\\\"ROC\\\\\\\"\\\",\\n          \\\"threshold\\\": {\\n            \\\"change_threshold\\\": {\\n              \\\"absolute\\\": 0.01,\\n              \\\"direction\\\": \\\"HIGHER_IS_BETTER\\\"\\n            },\\n            \\\"value_threshold\\\": {\\n              \\\"lower_bound\\\": 0.779446\\n            }\\n          }\\n        },\\n        {\\n          \\\"class_name\\\": \\\"BinaryAccuracy\\\",\\n          \\\"threshold\\\": {\\n            \\\"change_threshold\\\": {\\n              \\\"absolute\\\": 0.01,\\n              \\\"direction\\\": \\\"HIGHER_IS_BETTER\\\"\\n            },\\n            \\\"value_threshold\\\": {\\n              \\\"lower_bound\\\": 0.728241\\n            }\\n          }\\n        },\\n        {\\n          \\\"class_name\\\": \\\"ExampleCount\\\"\\n        },\\n        {\\n          \\\"class_name\\\": \\\"FalsePositives\\\"\\n        },\\n        {\\n          \\\"class_name\\\": \\\"TruePositives\\\"\\n        },\\n        {\\n          \\\"class_name\\\": \\\"FalseNegatives\\\"\\n        },\\n        {\\n          \\\"class_name\\\": \\\"TrueNegatives\\\"\\n        }\\n      ]\\n    }\\n  ],\\n  \\\"model_specs\\\": [\\n    {\\n      \\\"label_key\\\": \\\"streak_status\\\",\\n      \\\"preprocessing_function_names\\\": [\\n        \\\"transform_features\\\"\\n      ],\\n      \\\"signature_name\\\": \\\"eval_for_tfma\\\"\\n    }\\n  ],\\n  \\\"slicing_specs\\\": [\\n    {}\\n  ]\\n}\"}}}, \"example_splits\": {\"runtimeValue\": {\"constantValue\": {\"stringValue\": \"[\\\"train\\\", \\\"val\\\"]\"}}}, \"fairness_indicator_thresholds\": {\"runtimeValue\": {\"constantValue\": {\"stringValue\": \"null\"}}}}}, \"taskInfo\": {\"name\": \"ModelEvaluator\"}}, \"ModelVertexTrainer\": {\"componentRef\": {\"name\": \"ModelVertexTrainer\"}, \"dependentTasks\": [\"DataTransformer\", \"HyperparametersImporter\", \"WarmstartModelResolver\"], \"inputs\": {\"artifacts\": {\"base_model\": {\"taskOutputArtifact\": {\"outputArtifactKey\": \"latest_model\", \"producerTask\": \"WarmstartModelResolver\"}}, \"examples\": {\"taskOutputArtifact\": {\"outputArtifactKey\": \"transformed_examples\", \"producerTask\": \"DataTransformer\"}}, \"hyperparameters\": {\"taskOutputArtifact\": {\"outputArtifactKey\": \"result\", \"producerTask\": \"HyperparametersImporter\"}}, \"schema\": {\"taskOutputArtifact\": {\"outputArtifactKey\": \"post_transform_schema\", \"producerTask\": \"DataTransformer\"}}, \"transform_graph\": {\"taskOutputArtifact\": {\"outputArtifactKey\": \"transform_graph\", \"producerTask\": \"DataTransformer\"}}}, \"parameters\": {\"custom_config\": {\"runtimeValue\": {\"constantValue\": {\"stringValue\": \"{\\\"ai_platform_training_args\\\": {\\\"project\\\": \\\"tfdf-mlops\\\", \\\"worker_pool_specs\\\": [{\\\"container_spec\\\": {\\\"image_uri\\\": \\\"us-central1-docker.pkg.dev/tfdf-mlops/docker-repo/vertex:latest\\\"}, \\\"machine_spec\\\": {\\\"machine_type\\\": \\\"n1-standard-4\\\"}, \\\"replica_count\\\": 1}]}, \\\"ai_platform_training_enable_ucaip\\\": true, \\\"ai_platform_training_ucaip_region\\\": \\\"us-central1\\\", \\\"batch_size\\\": 128, \\\"input_fn_version\\\": \\\"V1\\\", \\\"label_key\\\": \\\"streak_status\\\", \\\"model_type\\\": \\\"GBTM\\\", \\\"use_gpu\\\": false}\"}}}, \"eval_args\": {\"runtimeValue\": {\"constantValue\": {\"stringValue\": \"{\\n  \\\"splits\\\": [\\n    \\\"val\\\"\\n  ]\\n}\"}}}, \"module_path\": {\"runtimeValue\": {\"constantValue\": {\"stringValue\": \"trainer_module@gs://data-for-tfdf/pipeline-root/urge-classifier-train-pipeline/_wheels/tfx_user_code_ModelVertexTrainer-0.0+d8b49c39f698c364ca4acaedce2f8f3bb3448b95755382e169431021fd4c93b4-py3-none-any.whl\"}}}, \"train_args\": {\"runtimeValue\": {\"constantValue\": {\"stringValue\": \"{\\n  \\\"splits\\\": [\\n    \\\"train\\\"\\n  ]\\n}\"}}}}}, \"taskInfo\": {\"name\": \"ModelVertexTrainer\"}}, \"Pusher\": {\"componentRef\": {\"name\": \"Pusher\"}, \"dependentTasks\": [\"ModelEvaluator\", \"ModelVertexTrainer\"], \"inputs\": {\"artifacts\": {\"model\": {\"taskOutputArtifact\": {\"outputArtifactKey\": \"model\", \"producerTask\": \"ModelVertexTrainer\"}}, \"model_blessing\": {\"taskOutputArtifact\": {\"outputArtifactKey\": \"blessing\", \"producerTask\": \"ModelEvaluator\"}}}, \"parameters\": {\"custom_config\": {\"runtimeValue\": {\"constantValue\": {\"stringValue\": \"null\"}}}, \"push_destination\": {\"runtimeValue\": {\"constantValue\": {\"stringValue\": \"{\\n  \\\"filesystem\\\": {\\n    \\\"base_directory\\\": \\\"gs://data-for-tfdf/serving-model/urge-classifier-train-pipeline\\\"\\n  }\\n}\"}}}}}, \"taskInfo\": {\"name\": \"Pusher\"}}, \"SchemaImporter\": {\"componentRef\": {\"name\": \"SchemaImporter\"}, \"inputs\": {\"parameters\": {\"schema_file\": {\"runtimeValue\": {\"constantValue\": {\"stringValue\": \"src/raw_schema/schema.pbtxt\"}}}}}, \"taskInfo\": {\"name\": \"SchemaImporter\"}}, \"StatisticsGen\": {\"componentRef\": {\"name\": \"StatisticsGen\"}, \"dependentTasks\": [\"ExampleGen\"], \"inputs\": {\"artifacts\": {\"examples\": {\"taskOutputArtifact\": {\"outputArtifactKey\": \"examples\", \"producerTask\": \"ExampleGen\"}}}, \"parameters\": {\"exclude_splits\": {\"runtimeValue\": {\"constantValue\": {\"stringValue\": \"[]\"}}}}}, \"taskInfo\": {\"name\": \"StatisticsGen\"}}, \"WarmstartModelResolver\": {\"componentRef\": {\"name\": \"WarmstartModelResolver\"}, \"inputs\": {\"parameters\": {\"resolver_class\": {\"runtimeValue\": {\"constantValue\": {\"stringValue\": \"{\\\"__class__\\\": \\\"LatestArtifactStrategy\\\", \\\"__module__\\\": \\\"tfx.dsl.input_resolution.strategies.latest_artifact_strategy\\\", \\\"__tfx_object_type__\\\": \\\"class\\\"}\"}}}, \"source_uri\": {\"runtimeValue\": {\"constantValue\": {\"stringValue\": \"{}\"}}}}}, \"taskInfo\": {\"name\": \"WarmstartModelResolver\"}}}}}, \"schemaVersion\": \"2.0.0\", \"sdkVersion\": \"tfx-1.14.0\"}, \"runtimeConfig\": {\"gcsOutputDirectory\": \"gs://data-for-tfdf/pipeline-root/urge-classifier-train-pipeline\"}}"
     ]
    }
   ],
   "source": [
    "!gsutil cat {gcs_compiled_pipeline_file_location} | head"
   ]
  },
  {
   "cell_type": "code",
   "execution_count": 19,
   "metadata": {},
   "outputs": [],
   "source": [
    "job = vertex_ai.PipelineJob(\n",
    "    display_name=config.PIPELINE_NAME, template_path=gcs_compiled_pipeline_file_location\n",
    ")"
   ]
  },
  {
   "cell_type": "code",
   "execution_count": 21,
   "metadata": {},
   "outputs": [
    {
     "name": "stdout",
     "output_type": "stream",
     "text": [
      "Creating PipelineJob\n",
      "PipelineJob created. Resource name: projects/677694625515/locations/us-central1/pipelineJobs/urge-classifier-train-pipeline-20240315022740\n",
      "To use this PipelineJob in another session:\n",
      "pipeline_job = aiplatform.PipelineJob.get('projects/677694625515/locations/us-central1/pipelineJobs/urge-classifier-train-pipeline-20240315022740')\n",
      "View Pipeline Job:\n",
      "https://console.cloud.google.com/vertex-ai/locations/us-central1/pipelines/runs/urge-classifier-train-pipeline-20240315022740?project=677694625515\n"
     ]
    }
   ],
   "source": [
    "job.submit()"
   ]
  }
 ],
 "metadata": {
  "kernelspec": {
   "display_name": "MLEnv",
   "language": "python",
   "name": "python3"
  },
  "language_info": {
   "codemirror_mode": {
    "name": "ipython",
    "version": 3
   },
   "file_extension": ".py",
   "mimetype": "text/x-python",
   "name": "python",
   "nbconvert_exporter": "python",
   "pygments_lexer": "ipython3",
   "version": "3.8.0"
  }
 },
 "nbformat": 4,
 "nbformat_minor": 2
}
