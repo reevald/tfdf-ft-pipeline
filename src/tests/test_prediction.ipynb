{
 "cells": [
  {
   "cell_type": "markdown",
   "metadata": {},
   "source": [
    "# Testing Prediction"
   ]
  },
  {
   "cell_type": "code",
   "execution_count": 1,
   "metadata": {},
   "outputs": [],
   "source": [
    "import pandas as pd"
   ]
  },
  {
   "cell_type": "markdown",
   "metadata": {},
   "source": [
    "## Sample Data"
   ]
  },
  {
   "cell_type": "code",
   "execution_count": 2,
   "metadata": {},
   "outputs": [],
   "source": [
    "df_sample = pd.DataFrame.from_dict(\n",
    "    {\n",
    "        \"user_id\": [\"A\", \"B\", \"C\"],\n",
    "        \"act_exe_num\": [0, 1, 3],\n",
    "        \"act_med_num\": [1, 13, 2],\n",
    "        \"act_read_num\": [4, 5, 10],\n",
    "        \"act_exe_nununique\": [0, 1, 2],\n",
    "        \"act_med_nununique\": [1, 3, 2],\n",
    "        \"act_read_nununique\": [3, 3, 3],\n",
    "        \"task_exe_completed\": [0, 0, 0],\n",
    "        \"task_med_completed\": [0, 0, 1],\n",
    "        \"task_read_completed\": [0, 1, 1],\n",
    "        \"streak_current\": [2, 5, 69],\n",
    "    }\n",
    ")"
   ]
  },
  {
   "cell_type": "markdown",
   "metadata": {},
   "source": [
    "## Data Request Preparation"
   ]
  },
  {
   "cell_type": "markdown",
   "metadata": {},
   "source": [
    "### With Serialize"
   ]
  },
  {
   "cell_type": "markdown",
   "metadata": {},
   "source": [
    "- Pros: Input data as serialized to boost performance when inference the models. See: https://medium.com/@avidaneran/tensorflow-serving-rest-vs-grpc-e8cef9d4ff62\n",
    "- Cons: Need library TensorFlow (>1GB) just to serialize data not worth it just to make inference, need more research or build necessary part of TensorFlow"
   ]
  },
  {
   "cell_type": "code",
   "execution_count": 3,
   "metadata": {},
   "outputs": [
    {
     "name": "stderr",
     "output_type": "stream",
     "text": [
      "2024-03-14 23:37:56.155453: I tensorflow/tsl/cuda/cudart_stub.cc:28] Could not find cuda drivers on your machine, GPU will not be used.\n",
      "2024-03-14 23:37:56.248050: I tensorflow/tsl/cuda/cudart_stub.cc:28] Could not find cuda drivers on your machine, GPU will not be used.\n",
      "2024-03-14 23:37:56.250586: I tensorflow/core/platform/cpu_feature_guard.cc:182] This TensorFlow binary is optimized to use available CPU instructions in performance-critical operations.\n",
      "To enable the following instructions: FMA, in other operations, rebuild TensorFlow with the appropriate compiler flags.\n",
      "2024-03-14 23:37:58.056816: W tensorflow/compiler/tf2tensorrt/utils/py_utils.cc:38] TF-TRT Warning: Could not find TensorRT\n"
     ]
    }
   ],
   "source": [
    "import base64\n",
    "import tensorflow as tf"
   ]
  },
  {
   "cell_type": "code",
   "execution_count": 9,
   "metadata": {},
   "outputs": [],
   "source": [
    "list_features = [key for key in df_sample.keys() if key != \"user_id\"]\n",
    "\n",
    "\n",
    "def int64_feature(value):\n",
    "    return tf.train.Feature(int64_list=tf.train.Int64List(value=[value]))\n",
    "\n",
    "\n",
    "def generate_example(row):\n",
    "    features = {key: int64_feature(row[key]) for key in list_features}\n",
    "    example_proto = tf.train.Example(features=tf.train.Features(feature=features))\n",
    "    return example_proto"
   ]
  },
  {
   "cell_type": "code",
   "execution_count": 10,
   "metadata": {},
   "outputs": [],
   "source": [
    "model_inputs = \"\"\n",
    "init = True\n",
    "for idx, row in df_sample.iterrows():\n",
    "    example = generate_example(row)\n",
    "    serialized_proto = example.SerializeToString()\n",
    "    example_bytes = base64.b64encode(serialized_proto).decode(\"utf-8\")\n",
    "\n",
    "    if init:\n",
    "        model_inputs += \"[\"\n",
    "        init = False\n",
    "    else:\n",
    "        model_inputs += \",\"\n",
    "\n",
    "    model_inputs += '{\"b64\": \"%s\"}' % (example_bytes)\n",
    "model_inputs += \"]\""
   ]
  },
  {
   "cell_type": "markdown",
   "metadata": {},
   "source": [
    "### Without Serialize"
   ]
  },
  {
   "cell_type": "code",
   "execution_count": 11,
   "metadata": {},
   "outputs": [],
   "source": [
    "model_inputs_v2 = \"{\"\n",
    "for idx, key in enumerate(list_features):\n",
    "    model_inputs_v2 += '\"%s\": %s' % (key, df_sample[key].to_list())\n",
    "    if idx != len(list_features) - 1:\n",
    "        model_inputs_v2 += \",\"\n",
    "model_inputs_v2 += \"}\""
   ]
  },
  {
   "cell_type": "markdown",
   "metadata": {},
   "source": [
    "## Get Predictions"
   ]
  },
  {
   "cell_type": "code",
   "execution_count": 12,
   "metadata": {},
   "outputs": [],
   "source": [
    "# ENDPOINT = \"http://localhost:8080/v1/models/urge-model:predict\" # LOCAL\n",
    "ENDPOINT = (\n",
    "    \"https://tfdf-inference-bu72b6gr6a-uc.a.run.app/v1/models/urge-classifier:predict\"\n",
    ")"
   ]
  },
  {
   "cell_type": "markdown",
   "metadata": {},
   "source": [
    "### With Serialize"
   ]
  },
  {
   "cell_type": "code",
   "execution_count": 13,
   "metadata": {},
   "outputs": [],
   "source": [
    "import requests\n",
    "import pprint"
   ]
  },
  {
   "cell_type": "code",
   "execution_count": 14,
   "metadata": {},
   "outputs": [
    {
     "name": "stdout",
     "output_type": "stream",
     "text": [
      "{'outputs': {'logistic': [[0.52228564], [0.57797724], [0.668834031]],\n",
      "             'logits': [[0.0892016962], [0.314475358], [0.702916265]],\n",
      "             'probabilities': [[0.47771433, 0.52228564],\n",
      "                               [0.42202273, 0.57797724],\n",
      "                               [0.331165969, 0.668834031]]}}\n"
     ]
    }
   ],
   "source": [
    "data_request = '{\"signature_name\": \"predict\", \"inputs\": %s}' % (model_inputs)\n",
    "# See: https://github.com/tensorflow/serving/blob/master/tensorflow_serving/g3doc/api_rest.md\n",
    "response = requests.post(ENDPOINT, data=data_request).json()\n",
    "pprint.pprint(response)"
   ]
  },
  {
   "cell_type": "markdown",
   "metadata": {},
   "source": [
    "### Without Serialize"
   ]
  },
  {
   "cell_type": "code",
   "execution_count": 15,
   "metadata": {},
   "outputs": [
    {
     "name": "stdout",
     "output_type": "stream",
     "text": [
      "{'outputs': [[0.47771433, 0.52228564],\n",
      "             [0.42202273, 0.57797724],\n",
      "             [0.331165969, 0.668834031]]}\n"
     ]
    }
   ],
   "source": [
    "data_request = '{\"signature_name\": \"serving_default\", \"inputs\": %s}' % (model_inputs_v2)\n",
    "# See: https://github.com/tensorflow/serving/blob/master/tensorflow_serving/g3doc/api_rest.md\n",
    "response_v2 = requests.post(ENDPOINT, data=data_request).json()\n",
    "pprint.pprint(response_v2)"
   ]
  },
  {
   "cell_type": "markdown",
   "metadata": {},
   "source": [
    "## Traffic Simulation for Test Monitoring"
   ]
  },
  {
   "cell_type": "code",
   "execution_count": null,
   "metadata": {},
   "outputs": [],
   "source": [
    "import time\n",
    "import random\n",
    "\n",
    "counter = 0\n",
    "while True:\n",
    "    print(\"🚩 ==>\", counter)\n",
    "\n",
    "    data_request = '{\"signature_name\": \"predict\", \"inputs\": %s}' % (model_inputs)\n",
    "    # See: https://github.com/tensorflow/serving/blob/master/tensorflow_serving/g3doc/api_rest.md\n",
    "    response = requests.post(ENDPOINT, data=data_request)\n",
    "    print(\"Latency ==>\", response.elapsed.total_seconds())\n",
    "    print(\"Status Code ==>\", response.status_code)\n",
    "\n",
    "    # Bypass idle prometheus as well\n",
    "    response_mon = requests.get(\"https://tfdf-monitoring-bu72b6gr6a-uc.a.run.app/\")\n",
    "    print(\"Latency Mon ==>\", response.elapsed.total_seconds())\n",
    "    print(\"Status Code Mon ==>\", response_mon.status_code)\n",
    "    counter += 1\n",
    "    time.sleep(random.uniform(0.2, 2.0))"
   ]
  }
 ],
 "metadata": {
  "kernelspec": {
   "display_name": "MLEnv",
   "language": "python",
   "name": "python3"
  },
  "language_info": {
   "codemirror_mode": {
    "name": "ipython",
    "version": 3
   },
   "file_extension": ".py",
   "mimetype": "text/x-python",
   "name": "python",
   "nbconvert_exporter": "python",
   "pygments_lexer": "ipython3",
   "version": "3.8.0"
  }
 },
 "nbformat": 4,
 "nbformat_minor": 2
}
